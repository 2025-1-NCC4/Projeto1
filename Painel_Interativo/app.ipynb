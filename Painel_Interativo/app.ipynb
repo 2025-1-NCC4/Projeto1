{
 "cells": [
  {
   "cell_type": "code",
   "execution_count": 28,
   "metadata": {},
   "outputs": [],
   "source": [
    "#obs: para rodar o painel abaixo, digite 'streamlit run app.ipynb' no terminal"
   ]
  },
  {
   "cell_type": "code",
   "execution_count": 29,
   "metadata": {},
   "outputs": [
    {
     "name": "stdout",
     "output_type": "stream",
     "text": [
      "Requirement already satisfied: python-bcb in c:\\users\\bia\\appdata\\local\\programs\\python\\python310\\lib\\site-packages (0.3.2)\n",
      "Requirement already satisfied: httpx>=0.24.0 in c:\\users\\bia\\appdata\\local\\programs\\python\\python310\\lib\\site-packages (from python-bcb) (0.28.1)\n",
      "Requirement already satisfied: lxml>=4.9.2 in c:\\users\\bia\\appdata\\local\\programs\\python\\python310\\lib\\site-packages (from python-bcb) (5.3.1)\n",
      "Requirement already satisfied: pandas>=2.0.0 in c:\\users\\bia\\appdata\\local\\programs\\python\\python310\\lib\\site-packages (from python-bcb) (2.2.3)\n",
      "Requirement already satisfied: requests>=2.31.0 in c:\\users\\bia\\appdata\\local\\programs\\python\\python310\\lib\\site-packages (from python-bcb) (2.32.3)\n",
      "Requirement already satisfied: anyio in c:\\users\\bia\\appdata\\local\\programs\\python\\python310\\lib\\site-packages (from httpx>=0.24.0->python-bcb) (4.9.0)\n",
      "Requirement already satisfied: certifi in c:\\users\\bia\\appdata\\local\\programs\\python\\python310\\lib\\site-packages (from httpx>=0.24.0->python-bcb) (2025.1.31)\n",
      "Requirement already satisfied: httpcore==1.* in c:\\users\\bia\\appdata\\local\\programs\\python\\python310\\lib\\site-packages (from httpx>=0.24.0->python-bcb) (1.0.7)\n",
      "Requirement already satisfied: idna in c:\\users\\bia\\appdata\\local\\programs\\python\\python310\\lib\\site-packages (from httpx>=0.24.0->python-bcb) (3.10)\n",
      "Requirement already satisfied: h11<0.15,>=0.13 in c:\\users\\bia\\appdata\\local\\programs\\python\\python310\\lib\\site-packages (from httpcore==1.*->httpx>=0.24.0->python-bcb) (0.14.0)\n",
      "Requirement already satisfied: numpy>=1.22.4 in c:\\users\\bia\\appdata\\local\\programs\\python\\python310\\lib\\site-packages (from pandas>=2.0.0->python-bcb) (2.2.4)\n",
      "Requirement already satisfied: python-dateutil>=2.8.2 in c:\\users\\bia\\appdata\\local\\programs\\python\\python310\\lib\\site-packages (from pandas>=2.0.0->python-bcb) (2.9.0.post0)\n",
      "Requirement already satisfied: pytz>=2020.1 in c:\\users\\bia\\appdata\\local\\programs\\python\\python310\\lib\\site-packages (from pandas>=2.0.0->python-bcb) (2025.1)\n",
      "Requirement already satisfied: tzdata>=2022.7 in c:\\users\\bia\\appdata\\local\\programs\\python\\python310\\lib\\site-packages (from pandas>=2.0.0->python-bcb) (2025.1)\n",
      "Requirement already satisfied: charset-normalizer<4,>=2 in c:\\users\\bia\\appdata\\local\\programs\\python\\python310\\lib\\site-packages (from requests>=2.31.0->python-bcb) (3.4.1)\n",
      "Requirement already satisfied: urllib3<3,>=1.21.1 in c:\\users\\bia\\appdata\\local\\programs\\python\\python310\\lib\\site-packages (from requests>=2.31.0->python-bcb) (2.3.0)\n",
      "Requirement already satisfied: six>=1.5 in c:\\users\\bia\\appdata\\local\\programs\\python\\python310\\lib\\site-packages (from python-dateutil>=2.8.2->pandas>=2.0.0->python-bcb) (1.17.0)\n",
      "Requirement already satisfied: exceptiongroup>=1.0.2 in c:\\users\\bia\\appdata\\local\\programs\\python\\python310\\lib\\site-packages (from anyio->httpx>=0.24.0->python-bcb) (1.2.2)\n",
      "Requirement already satisfied: sniffio>=1.1 in c:\\users\\bia\\appdata\\local\\programs\\python\\python310\\lib\\site-packages (from anyio->httpx>=0.24.0->python-bcb) (1.3.1)\n",
      "Requirement already satisfied: typing_extensions>=4.5 in c:\\users\\bia\\appdata\\local\\programs\\python\\python310\\lib\\site-packages (from anyio->httpx>=0.24.0->python-bcb) (4.13.0)\n"
     ]
    }
   ],
   "source": [
    "!pip install python-bcb"
   ]
  },
  {
   "cell_type": "code",
   "execution_count": 30,
   "metadata": {},
   "outputs": [],
   "source": [
    "import pandas as pd\n",
    "import plotly.express as px\n",
    "import streamlit as st\n",
    "from bcb import sgs"
   ]
  },
  {
   "cell_type": "code",
   "execution_count": 31,
   "metadata": {},
   "outputs": [],
   "source": [
    "indicadores = {\n",
    "    'Selic': 11,\n",
    "    'IPCA': 4449,\n",
    "    'IGP-M': 189,\n",
    "    'Dólar': 1\n",
    "}"
   ]
  },
  {
   "cell_type": "code",
   "execution_count": 42,
   "metadata": {},
   "outputs": [],
   "source": [
    "#Baixando os dados a partir de 2010\n",
    "dados = {nome: sgs.get(codigo, start='2018-01-01') for nome, codigo in indicadores.items()}"
   ]
  },
  {
   "cell_type": "code",
   "execution_count": 43,
   "metadata": {},
   "outputs": [
    {
     "name": "stdout",
     "output_type": "stream",
     "text": [
      "           Date       1 Indicador\n",
      "0    2018-01-02  3.2697     Dólar\n",
      "1    2018-01-03  3.2535     Dólar\n",
      "2    2018-01-04  3.2318     Dólar\n",
      "3    2018-01-05  3.2409     Dólar\n",
      "4    2018-01-08  3.2357     Dólar\n",
      "...         ...     ...       ...\n",
      "1813 2025-03-24  5.7403     Dólar\n",
      "1814 2025-03-25  5.6992     Dólar\n",
      "1815 2025-03-26  5.7298     Dólar\n",
      "1816 2025-03-27  5.7474     Dólar\n",
      "1817 2025-03-28  5.7660     Dólar\n",
      "\n",
      "[1818 rows x 3 columns]\n"
     ]
    }
   ],
   "source": [
    "#Convertendo para dataframe e resetando o índice\n",
    "for nome, df in dados.items():\n",
    "    df.reset_index(inplace=True)\n",
    "    df.rename(columns={'index': 'Data', nome: 'Valor'}, inplace=True)\n",
    "    df['Indicador'] = nome\n",
    "\n",
    "#Concatenando os dados em um único df\n",
    "#df_final = pd.concat(dados.values())\n",
    "print(df)\n"
   ]
  },
  {
   "cell_type": "markdown",
   "metadata": {},
   "source": [
    "Painel StreamLit"
   ]
  },
  {
   "cell_type": "code",
   "execution_count": 19,
   "metadata": {},
   "outputs": [
    {
     "name": "stderr",
     "output_type": "stream",
     "text": [
      "2025-03-29 08:55:42.114 Thread 'MainThread': missing ScriptRunContext! This warning can be ignored when running in bare mode.\n",
      "2025-03-29 08:55:42.115 Thread 'MainThread': missing ScriptRunContext! This warning can be ignored when running in bare mode.\n",
      "2025-03-29 08:55:42.116 Thread 'MainThread': missing ScriptRunContext! This warning can be ignored when running in bare mode.\n",
      "2025-03-29 08:55:42.116 Thread 'MainThread': missing ScriptRunContext! This warning can be ignored when running in bare mode.\n",
      "2025-03-29 08:55:42.117 Thread 'MainThread': missing ScriptRunContext! This warning can be ignored when running in bare mode.\n",
      "2025-03-29 08:55:42.117 Thread 'MainThread': missing ScriptRunContext! This warning can be ignored when running in bare mode.\n",
      "2025-03-29 08:55:42.117 Thread 'MainThread': missing ScriptRunContext! This warning can be ignored when running in bare mode.\n"
     ]
    }
   ],
   "source": [
    "st.set_page_config(layout='wide')\n",
    "st.title('📊 Painel de Indicadores Econômicos')\n",
    "st.write('Fonte: Banco Central do Brasil (BCB)')"
   ]
  },
  {
   "cell_type": "code",
   "execution_count": 20,
   "metadata": {},
   "outputs": [
    {
     "name": "stderr",
     "output_type": "stream",
     "text": [
      "2025-03-29 08:55:53.147 Thread 'MainThread': missing ScriptRunContext! This warning can be ignored when running in bare mode.\n",
      "2025-03-29 08:55:53.147 Thread 'MainThread': missing ScriptRunContext! This warning can be ignored when running in bare mode.\n",
      "2025-03-29 08:55:53.148 Thread 'MainThread': missing ScriptRunContext! This warning can be ignored when running in bare mode.\n",
      "2025-03-29 08:55:53.149 Thread 'MainThread': missing ScriptRunContext! This warning can be ignored when running in bare mode.\n",
      "2025-03-29 08:55:53.149 Thread 'MainThread': missing ScriptRunContext! This warning can be ignored when running in bare mode.\n",
      "2025-03-29 08:55:53.149 Thread 'MainThread': missing ScriptRunContext! This warning can be ignored when running in bare mode.\n"
     ]
    }
   ],
   "source": [
    "indicador_escolhido = st.selectbox(\"Escolha um indicador:\", df_final[\"Indicador\"].unique())"
   ]
  },
  {
   "cell_type": "code",
   "execution_count": 21,
   "metadata": {},
   "outputs": [],
   "source": [
    "df_filtrado = df_final[df_final[\"Indicador\"] == indicador_escolhido]"
   ]
  },
  {
   "cell_type": "code",
   "execution_count": null,
   "metadata": {},
   "outputs": [],
   "source": [
    "#Gráfico interativo com plotly dash\n",
    "fig = px.line(df_filtrado, x=\"Data\", y=\"Valor\", title=f\"Evolução do {indicador_escolhido}\",\n",
    "              labels={\"Valor\": \"Valor\", \"Data\": \"Data\"}, template=\"plotly_dark\")\n",
    "\n",
    "st.plotly_chart(fig, use_container_width=True)"
   ]
  },
  {
   "cell_type": "code",
   "execution_count": null,
   "metadata": {},
   "outputs": [],
   "source": [
    "#Exibindo a tela de dados\n",
    "st.write(\"📅 **Dados Brutos:**\")\n",
    "st.dataframe(df_filtrado)"
   ]
  }
 ],
 "metadata": {
  "kernelspec": {
   "display_name": "Python 3",
   "language": "python",
   "name": "python3"
  },
  "language_info": {
   "codemirror_mode": {
    "name": "ipython",
    "version": 3
   },
   "file_extension": ".py",
   "mimetype": "text/x-python",
   "name": "python",
   "nbconvert_exporter": "python",
   "pygments_lexer": "ipython3",
   "version": "3.10.2"
  }
 },
 "nbformat": 4,
 "nbformat_minor": 2
}
